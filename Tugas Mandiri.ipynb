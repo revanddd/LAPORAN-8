{
 "cells": [
  {
   "cell_type": "code",
   "execution_count": 5,
   "metadata": {},
   "outputs": [
    {
     "name": "stdout",
     "output_type": "stream",
     "text": [
      "Difference at line 17:\n",
      "File 1: Baris kesepuluh\n",
      "File 2: Baris pertama\n",
      "Difference at line 35:\n",
      "File 1: Baris kesembilan\n",
      "File 2: Baris kedua\n",
      "Difference at line 52:\n",
      "File 1: Baris kedelapan\n",
      "File 2: Baris ketiga\n",
      "Difference at line 67:\n",
      "File 1: Baris ketujuh\n",
      "File 2: Baris keempat\n",
      "Difference at line 81:\n",
      "File 1: Baris keenam\n",
      "File 2: Baris kelima\n",
      "Difference at line 95:\n",
      "File 1: Baris kelima\n",
      "File 2: Baris keenam\n",
      "Difference at line 110:\n",
      "File 1: Baris keempat\n",
      "File 2: Baris ketujuh\n",
      "Difference at line 124:\n",
      "File 1: Baris ketiga\n",
      "File 2: Baris kedelapan\n",
      "Difference at line 137:\n",
      "File 1: Baris kedua\n",
      "File 2: Baris kesembilan\n",
      "Difference at line 150:\n",
      "File 1: Baris pertama\n",
      "File 2: Baris kesepuluh\n"
     ]
    }
   ],
   "source": [
    "def bandingkan_file(fileA, fileB):\n",
    "    with open(fileA, 'r') as fA, open(fileB, 'r') as fB:\n",
    "        while True:\n",
    "            line1 = fA.readline()\n",
    "            line2 = fB.readline()\n",
    "            if not line1 and not line2:\n",
    "                break\n",
    "            if line1!= line2:\n",
    "                print(f\"Difference at line {fA.tell()}:\")\n",
    "                print(f\"File 1: {line1.strip()}\")\n",
    "                print(f\"File 2: {line2.strip()}\")\n",
    "bandingkan_file('file22.txt', 'file2.txt')"
   ]
  },
  {
   "cell_type": "code",
   "execution_count": 6,
   "metadata": {},
   "outputs": [
    {
     "name": "stdout",
     "output_type": "stream",
     "text": [
      "Nama file: soal.txt\n",
      "1+1 = \n",
      "Jawab: 2\n",
      "Jawaban benar!\n",
      "\n",
      "Bendera Indonesia? \n",
      "Jawab: Merah Putih\n",
      "Jawaban benar!\n",
      "\n",
      "Kota gudeg adalah: \n",
      "Jawab: Yogyakarta\n",
      "Jawaban benar!\n",
      "\n",
      "Komponen PC untuk penyimpanan file adalah... \n",
      "Jawab: Harddisk\n",
      "Jawaban benar!\n",
      "\n",
      "50 * 20 = \n",
      "Jawab: 1000\n",
      "Jawaban benar!\n",
      "\n"
     ]
    }
   ],
   "source": [
    "try:\n",
    "    filename = \"soal.txt\"\n",
    "    with open(filename, 'r') as handle:\n",
    "        print(f\"Nama file: {filename}\")\n",
    "        for line in handle:\n",
    "            question, answer = line.strip().split(\"||\")\n",
    "            user_answer = answer.strip().title()\n",
    "            print(f\"{question}\\nJawab: {user_answer}\")\n",
    "            if user_answer == answer.strip().title():\n",
    "                print(\"Jawaban benar!\\n\")\n",
    "            else:\n",
    "                print(\"Jawaban salah!\\n\")\n",
    "except FileNotFoundError:\n",
    "    print(\"File tidak ditemukan!\")\n",
    "except Exception as e:\n",
    "    print(f\"Terjadi kesalahan: {e}\")"
   ]
  }
 ],
 "metadata": {
  "kernelspec": {
   "display_name": "Python 3",
   "language": "python",
   "name": "python3"
  },
  "language_info": {
   "codemirror_mode": {
    "name": "ipython",
    "version": 3
   },
   "file_extension": ".py",
   "mimetype": "text/x-python",
   "name": "python",
   "nbconvert_exporter": "python",
   "pygments_lexer": "ipython3",
   "version": "3.12.0"
  }
 },
 "nbformat": 4,
 "nbformat_minor": 2
}
